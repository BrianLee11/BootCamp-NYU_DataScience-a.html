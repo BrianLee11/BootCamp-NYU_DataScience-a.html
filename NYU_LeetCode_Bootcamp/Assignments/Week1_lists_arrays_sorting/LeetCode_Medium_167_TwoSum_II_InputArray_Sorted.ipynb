{
 "cells": [
  {
   "cell_type": "markdown",
   "metadata": {},
   "source": [
    "# **LeetCode Medium - 167 Two Sum II - Input Array is sorted**\n",
    "\n",
    "https://leetcode.com/problems/two-sum-ii-input-array-is-sorted/description/\n",
    "\n",
    "Topic: lists, arrays, sorting\n",
    "\n",
    "**Problem description:**\n",
    "\n",
    "Given a 1-indexed array of integers numbers that is already sorted in non-decreasing order, \n",
    "find two numbers such that they add up to a specific target number. \n",
    "\n",
    "Let these two numbers be numbers[index1] and numbers[index2] \n",
    "where 1 <= index1 < index2 <= numbers.length.\n",
    "\n",
    "Return the indices of the two numbers, index1 and index2, \n",
    "added by one as an integer array [index1, index2] of length 2.\n",
    "\n",
    "The tests are generated such that there is exactly one solution. \n",
    "You may not use the same element twice.\n",
    "\n",
    "Your solution must use only constant extra space."
   ]
  },
  {
   "cell_type": "code",
   "execution_count": 7,
   "metadata": {},
   "outputs": [],
   "source": [
    "# solution\n",
    "class Solution(object):\n",
    "    def twoSum(self, numbers, target):\n",
    "        \"\"\"\n",
    "        type numers: List[int]\n",
    "        type target: int\n",
    "        rtype: List[int]\n",
    "        \"\"\"\n",
    "        dictionary = {}\n",
    "\n",
    "        for index in range(len(numbers)):\n",
    "            complement = target - numbers[index]\n",
    "\n",
    "            if complement in dictionary:\n",
    "                return [dictionary[complement] + 1, index + 1]\n",
    "            \n",
    "            else:\n",
    "                dictionary[numbers[index]] = index\n",
    "\n",
    "        return False"
   ]
  },
  {
   "cell_type": "code",
   "execution_count": 8,
   "metadata": {},
   "outputs": [
    {
     "name": "stdout",
     "output_type": "stream",
     "text": [
      "[1, 2]\n"
     ]
    }
   ],
   "source": [
    "# testing\n",
    "numbers = [2,7,11,15]\n",
    "target = 9\n",
    "\n",
    "solution = Solution()\n",
    "result = solution.twoSum(numbers,target)\n",
    "print(result)"
   ]
  },
  {
   "cell_type": "code",
   "execution_count": 9,
   "metadata": {},
   "outputs": [
    {
     "name": "stdout",
     "output_type": "stream",
     "text": [
      "[1, 3]\n"
     ]
    }
   ],
   "source": [
    "# testing\n",
    "numbers = [2,3,4]\n",
    "target = 6\n",
    "\n",
    "solution = Solution()\n",
    "result = solution.twoSum(numbers,target)\n",
    "print(result)"
   ]
  },
  {
   "cell_type": "code",
   "execution_count": 10,
   "metadata": {},
   "outputs": [
    {
     "name": "stdout",
     "output_type": "stream",
     "text": [
      "[1, 2]\n"
     ]
    }
   ],
   "source": [
    "# testing\n",
    "numbers = [-1,0]\n",
    "target = -1\n",
    "\n",
    "solution = Solution()\n",
    "result = solution.twoSum(numbers,target)\n",
    "print(result)"
   ]
  }
 ],
 "metadata": {
  "kernelspec": {
   "display_name": "base",
   "language": "python",
   "name": "python3"
  },
  "language_info": {
   "codemirror_mode": {
    "name": "ipython",
    "version": 3
   },
   "file_extension": ".py",
   "mimetype": "text/x-python",
   "name": "python",
   "nbconvert_exporter": "python",
   "pygments_lexer": "ipython3",
   "version": "3.11.5"
  }
 },
 "nbformat": 4,
 "nbformat_minor": 2
}
