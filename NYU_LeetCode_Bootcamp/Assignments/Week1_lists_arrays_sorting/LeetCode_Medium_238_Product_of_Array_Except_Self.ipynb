{
 "cells": [
  {
   "cell_type": "markdown",
   "metadata": {},
   "source": [
    "# 238. Product of Array Except Self\n",
    "\n",
    "https://leetcode.com/problems/product-of-array-except-self/description/\n",
    "\n",
    "Topic: lists, arrays, sorting\n",
    "\n",
    "## Problem Statement\n",
    "Given an integer array `nums`, return an array `answer` such that:\n",
    "- `answer[i]` is equal to the product of all the elements of `nums` except `nums[i]`.\n",
    "\n",
    "The product of any prefix or suffix of `nums` is **guaranteed** to fit in a 32-bit integer.\n",
    "\n",
    "You must write an algorithm that:\n",
    "- Runs in **O(n)** time.\n",
    "- Does **not** use the division operation.\n",
    "\n",
    "---\n",
    "\n",
    "## Examples\n",
    "\n",
    "### Example 1\n",
    "**Input**:  \n",
    "`nums = [1,2,3,4]`  \n",
    "**Output**:  \n",
    "`[24,12,8,6]`\n",
    "\n",
    "### Example 2\n",
    "**Input**:  \n",
    "`nums = [-1,1,0,-3,3]`  \n",
    "**Output**:  \n",
    "`[0,0,9,0,0]`\n",
    "\n",
    "---\n",
    "\n",
    "## Constraints\n",
    "- `2 <= nums.length <= 10^5`\n",
    "- `-30 <= nums[i] <= 30`\n",
    "- The product of any prefix or suffix of `nums` is guaranteed to fit in a **32-bit integer**.\n",
    "\n",
    "---\n",
    "\n",
    "## Follow-Up\n",
    "Can you solve the problem in **O(1)** extra space complexity?  \n",
    "(The output array does **not** count as extra space for space complexity analysis.)"
   ]
  },
  {
   "cell_type": "code",
   "execution_count": 1,
   "metadata": {},
   "outputs": [],
   "source": [
    "# solution\n",
    "class Solution(object):\n",
    "    def productExceptSelf(self, nums):\n",
    "        \"\"\"\n",
    "        :type nums: List[int]\n",
    "        :rtype: List[int]\n",
    "        \"\"\"\n",
    "        prefix = [0] * len(nums)\n",
    "        prefix[0] = 1\n",
    "\n",
    "        for index in range(1, len(prefix)):\n",
    "            prefix[index]  = nums[index - 1] * prefix[index - 1]\n",
    "\n",
    "        postfix = [0] * len(nums)\n",
    "        postfix[len(postfix) - 1] = 1\n",
    "\n",
    "        for index in range(len(prefix) - 2, -1 , -1):\n",
    "            postfix[index] = postfix[index + 1] * nums[index + 1]\n",
    "\n",
    "        multiple = [0] * len(nums)\n",
    "\n",
    "        for index in range(len(multiple)):\n",
    "            multiple[index] = prefix[index] * postfix[index]\n",
    "\n",
    "        return multiple"
   ]
  },
  {
   "cell_type": "code",
   "execution_count": 2,
   "metadata": {},
   "outputs": [
    {
     "name": "stdout",
     "output_type": "stream",
     "text": [
      "[24, 12, 8, 6]\n"
     ]
    }
   ],
   "source": [
    "# test\n",
    "nums = [1,2,3,4]\n",
    "\n",
    "solution = Solution()\n",
    "result = solution.productExceptSelf(nums)\n",
    "print(result)"
   ]
  },
  {
   "cell_type": "code",
   "execution_count": 3,
   "metadata": {},
   "outputs": [
    {
     "name": "stdout",
     "output_type": "stream",
     "text": [
      "[0, 0, 9, 0, 0]\n"
     ]
    }
   ],
   "source": [
    "# test\n",
    "nums = [-1,1,0,-3,3]\n",
    "\n",
    "solution = Solution()\n",
    "result = solution.productExceptSelf(nums)\n",
    "print(result)"
   ]
  }
 ],
 "metadata": {
  "kernelspec": {
   "display_name": "base",
   "language": "python",
   "name": "python3"
  },
  "language_info": {
   "codemirror_mode": {
    "name": "ipython",
    "version": 3
   },
   "file_extension": ".py",
   "mimetype": "text/x-python",
   "name": "python",
   "nbconvert_exporter": "python",
   "pygments_lexer": "ipython3",
   "version": "3.11.5"
  }
 },
 "nbformat": 4,
 "nbformat_minor": 2
}
