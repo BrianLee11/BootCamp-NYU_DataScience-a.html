{
 "cells": [
  {
   "cell_type": "markdown",
   "metadata": {},
   "source": [
    "# LeetCode 217. Contains Duplicate\n",
    "https://leetcode.com/problems/contains-duplicate/description/"
   ]
  },
  {
   "cell_type": "markdown",
   "metadata": {},
   "source": [
    "Given an integer array nums, \n",
    "\n",
    "return true if any value appears at least twice in the array, and\n",
    "\n",
    "return false if every element is distinct."
   ]
  },
  {
   "cell_type": "code",
   "execution_count": 2,
   "metadata": {},
   "outputs": [],
   "source": [
    "class Solution(object):\n",
    "    def containsDuplicate(self, nums):\n",
    "        set_elements = set()\n",
    "\n",
    "        for number in nums:\n",
    "            if number in set_elements:\n",
    "                return True\n",
    "            else:\n",
    "                set_elements.add(number)    \n",
    "\n",
    "        return False"
   ]
  },
  {
   "cell_type": "code",
   "execution_count": 3,
   "metadata": {},
   "outputs": [
    {
     "name": "stdout",
     "output_type": "stream",
     "text": [
      "True\n"
     ]
    }
   ],
   "source": [
    "# testing\n",
    "nums = [1,2,3,1]\n",
    "\n",
    "solution = Solution()\n",
    "result = solution.containsDuplicate(nums)\n",
    "print(result)"
   ]
  },
  {
   "cell_type": "code",
   "execution_count": 4,
   "metadata": {},
   "outputs": [
    {
     "name": "stdout",
     "output_type": "stream",
     "text": [
      "False\n"
     ]
    }
   ],
   "source": [
    "# testing\n",
    "nums = [1,2,3,4]\n",
    "\n",
    "solution = Solution()\n",
    "result = solution.containsDuplicate(nums)\n",
    "print(result)"
   ]
  }
 ],
 "metadata": {
  "kernelspec": {
   "display_name": "base",
   "language": "python",
   "name": "python3"
  },
  "language_info": {
   "codemirror_mode": {
    "name": "ipython",
    "version": 3
   },
   "file_extension": ".py",
   "mimetype": "text/x-python",
   "name": "python",
   "nbconvert_exporter": "python",
   "pygments_lexer": "ipython3",
   "version": "3.11.5"
  }
 },
 "nbformat": 4,
 "nbformat_minor": 2
}
