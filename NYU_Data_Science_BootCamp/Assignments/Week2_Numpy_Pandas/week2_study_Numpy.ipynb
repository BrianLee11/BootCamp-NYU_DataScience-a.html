{
 "cells": [
  {
   "cell_type": "markdown",
   "metadata": {},
   "source": [
    "# Numpy\n",
    "\n",
    "Arrays and array construction"
   ]
  },
  {
   "cell_type": "code",
   "execution_count": 1,
   "metadata": {},
   "outputs": [],
   "source": [
    "import numpy as np"
   ]
  },
  {
   "cell_type": "code",
   "execution_count": 3,
   "metadata": {},
   "outputs": [
    {
     "name": "stdout",
     "output_type": "stream",
     "text": [
      "<class 'numpy.ndarray'> (3,) 1 2 3\n"
     ]
    }
   ],
   "source": [
    "a = np.array([1,2,3]) # Create a rank 1 array with values 1,2,3\n",
    "\n",
    "print(type(a), a.shape, a[0], a[1], a[2])"
   ]
  },
  {
   "cell_type": "code",
   "execution_count": 4,
   "metadata": {},
   "outputs": [
    {
     "name": "stdout",
     "output_type": "stream",
     "text": [
      "[[1 2]\n",
      " [3 4]]\n",
      "(2, 2)\n"
     ]
    }
   ],
   "source": [
    "b = np.array([[1,2], [3,4]]) # Create a rank 2 array\n",
    "print(b)\n",
    "print(b.shape)"
   ]
  },
  {
   "cell_type": "code",
   "execution_count": 5,
   "metadata": {},
   "outputs": [
    {
     "name": "stdout",
     "output_type": "stream",
     "text": [
      "[[[1 2]\n",
      "  [3 4]]\n",
      "\n",
      " [[5 6]\n",
      "  [7 8]]]\n",
      "(2, 2, 2)\n"
     ]
    }
   ],
   "source": [
    "c = np.array([[[1,2], [3,4]], [[5,6], [7,8]]]) # Create a 2 x 2 x 2 array\n",
    "print(c)\n",
    "print(c.shape)"
   ]
  },
  {
   "cell_type": "code",
   "execution_count": 6,
   "metadata": {},
   "outputs": [
    {
     "name": "stdout",
     "output_type": "stream",
     "text": [
      "[1. 1. 1.]\n",
      "[0.73280758 0.40178289 0.93733633]\n"
     ]
    }
   ],
   "source": [
    "a = np.ones(3) # Create an array of all one's. 3 elements.\n",
    "print(a)\n",
    "\n",
    "b = np.random.random(3) # Create an array of random numbers in [0,1]. 3 elements.\n",
    "print(b)"
   ]
  },
  {
   "cell_type": "code",
   "execution_count": 9,
   "metadata": {},
   "outputs": [
    {
     "name": "stdout",
     "output_type": "stream",
     "text": [
      "[[0. 0.]\n",
      " [0. 0.]]\n",
      "\n",
      "[[1. 1.]]\n",
      "\n",
      "[[0.2036354  0.76881897]\n",
      " [0.46135295 0.41347992]]\n"
     ]
    }
   ],
   "source": [
    "a = np.zeros((2,2)) # create an array of all zeros. 2 x 2 array\n",
    "print(a)\n",
    "print()\n",
    "\n",
    "b = np.ones((1,2)) # create an array of all zeros. 1 x 2 array\n",
    "print(b)\n",
    "print()\n",
    "\n",
    "c = np.random.random((2,2)) # Create an array filled with random values\n",
    "print(c)"
   ]
  },
  {
   "cell_type": "code",
   "execution_count": 12,
   "metadata": {},
   "outputs": [
    {
     "name": "stdout",
     "output_type": "stream",
     "text": [
      "[10 15 20 25 30 35 40 45]\n"
     ]
    }
   ],
   "source": [
    "f = np.arange(10,50,5) # Create an array of values starting at 10, in increments of 5, ending in 50 (less than 50)\n",
    "print(f)"
   ]
  },
  {
   "cell_type": "code",
   "execution_count": 10,
   "metadata": {},
   "outputs": [
    {
     "name": "stdout",
     "output_type": "stream",
     "text": [
      "[0.   0.25 0.5  0.75 1.  ]\n"
     ]
    }
   ],
   "source": [
    "g = np.linspace(0., 1., num = 5)  # create 5 elements in linear spacing from 0 to 1, inclusive\n",
    "print(g)"
   ]
  },
  {
   "cell_type": "code",
   "execution_count": 18,
   "metadata": {},
   "outputs": [
    {
     "name": "stdout",
     "output_type": "stream",
     "text": [
      "Linspace Array: [ 0.   2.5  5.   7.5 10. ]\n",
      "Arange Array: [0 2 4 6 8]\n"
     ]
    }
   ],
   "source": [
    "# Using linspace\n",
    "linspace_array = np.linspace(0,10,5)\n",
    "print(\"Linspace Array:\", linspace_array)\n",
    "\n",
    "# Using arange\n",
    "arrange_array = np.arange(0,10,2)\n",
    "print(\"Arange Array:\", arrange_array)"
   ]
  },
  {
   "cell_type": "code",
   "execution_count": 19,
   "metadata": {},
   "outputs": [
    {
     "data": {
      "text/plain": [
       "array([[7, 4],\n",
       "       [8, 5],\n",
       "       [9, 6]])"
      ]
     },
     "execution_count": 19,
     "metadata": {},
     "output_type": "execute_result"
    }
   ],
   "source": [
    "a = np.array([[7], [8], [9]])\n",
    "b = np.array([[4], [5], [6]])\n",
    "np.hstack((a,b)) # horizontal stack"
   ]
  },
  {
   "cell_type": "code",
   "execution_count": 20,
   "metadata": {},
   "outputs": [
    {
     "data": {
      "text/plain": [
       "array([[7],\n",
       "       [8],\n",
       "       [9],\n",
       "       [4],\n",
       "       [5],\n",
       "       [6]])"
      ]
     },
     "execution_count": 20,
     "metadata": {},
     "output_type": "execute_result"
    }
   ],
   "source": [
    "np.vstack((a,b))  # vertical stack"
   ]
  },
  {
   "cell_type": "markdown",
   "metadata": {},
   "source": [
    "# Numpy array attributes"
   ]
  },
  {
   "cell_type": "code",
   "execution_count": 21,
   "metadata": {},
   "outputs": [
    {
     "name": "stdout",
     "output_type": "stream",
     "text": [
      "(5,)\n",
      "[5 6 7 8 9]\n"
     ]
    }
   ],
   "source": [
    "x1 = np.array([5,6,7,8,9])\n",
    "print(x1.shape)   # (5,)\n",
    "print(x1)         # [5,6,7,8,9]"
   ]
  },
  {
   "cell_type": "code",
   "execution_count": 24,
   "metadata": {},
   "outputs": [
    {
     "name": "stdout",
     "output_type": "stream",
     "text": [
      "x1 ndim:  1\n",
      "x1 ndim:  (5,)\n",
      "x2 ndim:  2\n",
      "x2 shape:  (3, 4)\n",
      "x2 size:  12\n"
     ]
    }
   ],
   "source": [
    "print(\"x1 ndim: \", x1.ndim)   # 1\n",
    "print(\"x1 ndim: \", x1.shape)  # (5,)\n",
    "\n",
    "x2 = np.random.random((3,4))  # Two-dimentional array\n",
    "print(\"x2 ndim: \", x2.ndim)   # 2\n",
    "print(\"x2 shape: \", x2.shape) # (3,4)\n",
    "print(\"x2 size: \", x2.size)   # 12"
   ]
  },
  {
   "cell_type": "markdown",
   "metadata": {},
   "source": [
    "Datatypes"
   ]
  },
  {
   "cell_type": "code",
   "execution_count": 26,
   "metadata": {},
   "outputs": [
    {
     "name": "stdout",
     "output_type": "stream",
     "text": [
      "int32 float64 int64\n"
     ]
    }
   ],
   "source": [
    "x = np.array([1,2])                   # Let numpy choose the datatype\n",
    "y = np.array([1.0, 2.0])              # Let numpy choose the datatype\n",
    "z = np.array([1,2], dtype = np.int64) # Force a particular datatype\n",
    "\n",
    "print(x.dtype, y.dtype, z.dtype)"
   ]
  },
  {
   "cell_type": "markdown",
   "metadata": {},
   "source": [
    "# Array indexing: accessing single elements"
   ]
  },
  {
   "cell_type": "code",
   "execution_count": 28,
   "metadata": {},
   "outputs": [
    {
     "name": "stdout",
     "output_type": "stream",
     "text": [
      "[5 6 7 8 9]\n"
     ]
    }
   ],
   "source": [
    "print(x1)"
   ]
  },
  {
   "cell_type": "code",
   "execution_count": 31,
   "metadata": {},
   "outputs": [
    {
     "name": "stdout",
     "output_type": "stream",
     "text": [
      "5\n",
      "9\n",
      "9\n"
     ]
    }
   ],
   "source": [
    "print(x1[0])\n",
    "print(x1[4])\n",
    "print(x1[-1])"
   ]
  },
  {
   "cell_type": "code",
   "execution_count": 32,
   "metadata": {},
   "outputs": [
    {
     "name": "stdout",
     "output_type": "stream",
     "text": [
      "[[0.83045496 0.99445755 0.29880081 0.73943605]\n",
      " [0.35121364 0.61479676 0.32420693 0.810866  ]\n",
      " [0.3288702  0.48945047 0.11103279 0.10178647]]\n",
      "0.8304549638929969\n",
      "0.3288702036328157\n",
      "0.10178646636074828\n",
      "\n",
      "[[12.          0.99445755  0.29880081  0.73943605]\n",
      " [ 0.35121364  0.61479676  0.32420693  0.810866  ]\n",
      " [ 0.3288702   0.48945047  0.11103279  0.10178647]]\n"
     ]
    }
   ],
   "source": [
    "print(x2)\n",
    "print(x2[0,0])\n",
    "print(x2[2,0])\n",
    "print(x2[2,-1])\n",
    "print()\n",
    "x2[0,0] = 12\n",
    "print(x2)"
   ]
  },
  {
   "cell_type": "code",
   "execution_count": 33,
   "metadata": {},
   "outputs": [
    {
     "name": "stdout",
     "output_type": "stream",
     "text": [
      "[5 6 7 8 9]\n",
      "[3 6 7 8 9]\n"
     ]
    }
   ],
   "source": [
    "print(x1)\n",
    "x1[0] = 3.14519 # this will be truncated!\n",
    "print(x1)"
   ]
  },
  {
   "cell_type": "markdown",
   "metadata": {},
   "source": [
    "# Array Slicing: Accessing Subarrays\n",
    "\n",
    "One-dimensional subarrays\n",
    "\n",
    "`x[start : stop : step]`\n",
    "\n",
    "If any of these are unspecified, they default to the values `start=0`, `stop=size of dimension`, `step=1`. \n",
    "\n",
    "We'll take a look at accessing sub-arrays in one dimension and in multiple dimensions."
   ]
  },
  {
   "cell_type": "code",
   "execution_count": 34,
   "metadata": {},
   "outputs": [
    {
     "name": "stdout",
     "output_type": "stream",
     "text": [
      "[ 0  1  2  3  4  5  6  7  8  9 10 11 12 13 14 15 16 17 18 19]\n"
     ]
    }
   ],
   "source": [
    "x = np.arange(20)\n",
    "print(x)"
   ]
  },
  {
   "cell_type": "code",
   "execution_count": 42,
   "metadata": {},
   "outputs": [
    {
     "name": "stdout",
     "output_type": "stream",
     "text": [
      "[0 1 2 3 4]\n",
      "[ 5  6  7  8  9 10 11 12 13 14 15 16 17 18 19]\n",
      "[4 5 6]\n",
      "[ 0  2  4  6  8 10 12 14 16 18]\n",
      "[ 1  3  5  7  9 11 13 15 17 19]\n",
      "[19 18 17 16 15 14 13 12 11 10  9  8  7  6  5  4  3  2  1  0]\n"
     ]
    }
   ],
   "source": [
    "print(x[:5])    # first five elements\n",
    "print(x[5:])    # elements after index 5\n",
    "print(x[4:7])   # middle sub-array\n",
    "print(x[::2])   # every other element  # even number\n",
    "print(x[1::2])  # every other element # odd numbers\n",
    "print(x[::-1])  # all elements, reversed"
   ]
  },
  {
   "cell_type": "code",
   "execution_count": 47,
   "metadata": {},
   "outputs": [
    {
     "name": "stdout",
     "output_type": "stream",
     "text": [
      "[[7 1 0 8]\n",
      " [0 1 8 6]\n",
      " [9 5 9 8]]\n",
      "\n",
      "[[7 1 0]\n",
      " [0 1 8]]\n",
      "\n",
      "[[7 0]\n",
      " [0 8]\n",
      " [9 9]]\n"
     ]
    }
   ],
   "source": [
    "# Multi-dimensional subarrays\n",
    "\n",
    "x2 = np.random.randint(10, size= (3,4)) # Two-dimensional array with random values, each value from [0, 11)\n",
    "print(x2)\n",
    "\n",
    "print()\n",
    "print(x2[:2, :3])  # two rows, three columns\n",
    "\n",
    "print()\n",
    "print(x2[:3, ::2]) # all rows, every other column"
   ]
  },
  {
   "cell_type": "code",
   "execution_count": 48,
   "metadata": {},
   "outputs": [
    {
     "name": "stdout",
     "output_type": "stream",
     "text": [
      "[[8 9 5 9]\n",
      " [6 8 1 0]\n",
      " [8 0 1 7]]\n"
     ]
    }
   ],
   "source": [
    "print(x2[::-1, ::-1]) # reverse row and column"
   ]
  },
  {
   "cell_type": "markdown",
   "metadata": {},
   "source": [
    "# Subarrays as no-copy views"
   ]
  },
  {
   "cell_type": "code",
   "execution_count": 53,
   "metadata": {},
   "outputs": [
    {
     "name": "stdout",
     "output_type": "stream",
     "text": [
      "[[99  1  0  8]\n",
      " [ 0  1  8  6]\n",
      " [ 9  5  9  8]]\n",
      "\n",
      "[[99  1]\n",
      " [ 0  1]]\n",
      "\n",
      "[[99  1]\n",
      " [ 0  1]]\n",
      "\n",
      "[[99  1  0  8]\n",
      " [ 0  1  8  6]\n",
      " [ 9  5  9  8]]\n"
     ]
    }
   ],
   "source": [
    "print(x2)\n",
    "print()\n",
    "\n",
    "x2_sub = x2[:2, :2]\n",
    "print(x2_sub)\n",
    "print()\n",
    "\n",
    "x2_sub[0,0] = 99\n",
    "print(x2_sub)\n",
    "print()\n",
    "\n",
    "print(x2)"
   ]
  },
  {
   "cell_type": "markdown",
   "metadata": {},
   "source": [
    "# Creating copies of arrays"
   ]
  },
  {
   "cell_type": "code",
   "execution_count": 56,
   "metadata": {},
   "outputs": [
    {
     "name": "stdout",
     "output_type": "stream",
     "text": [
      "[[99  1]\n",
      " [ 0  1]]\n",
      "\n",
      "[[42  1]\n",
      " [ 0  1]]\n",
      "\n",
      "[[99  1  0  8]\n",
      " [ 0  1  8  6]\n",
      " [ 9  5  9  8]]\n"
     ]
    }
   ],
   "source": [
    "x2_sub_copy = x2[:2, :2].copy()\n",
    "print(x2_sub_copy)\n",
    "print()\n",
    "\n",
    "x2_sub_copy[0,0] = 42\n",
    "print(x2_sub_copy)\n",
    "print()\n",
    "\n",
    "print(x2)"
   ]
  },
  {
   "cell_type": "markdown",
   "metadata": {},
   "source": [
    "# Reshaping of Arrays"
   ]
  },
  {
   "cell_type": "code",
   "execution_count": 65,
   "metadata": {},
   "outputs": [
    {
     "name": "stdout",
     "output_type": "stream",
     "text": [
      "[[1 2 3]\n",
      " [4 5 6]\n",
      " [7 8 9]]\n",
      "\n",
      "[1 2 3 4 5 6 7 8 9]\n",
      "\n",
      "[[1 2 3]\n",
      " [4 5 6]\n",
      " [7 8 9]]\n"
     ]
    }
   ],
   "source": [
    "grid = np.arange(1,10).reshape((3,3))\n",
    "print(grid)\n",
    "print()\n",
    "\n",
    "grid = np.arange(1,10)\n",
    "print(grid)\n",
    "print()\n",
    "\n",
    "grid = grid.reshape((3,3))\n",
    "print(grid)"
   ]
  },
  {
   "cell_type": "code",
   "execution_count": 67,
   "metadata": {},
   "outputs": [
    {
     "name": "stdout",
     "output_type": "stream",
     "text": [
      "(3,)\n",
      "[1 2 3]\n",
      "\n",
      "(3, 1)\n",
      "[[1]\n",
      " [2]\n",
      " [3]]\n"
     ]
    }
   ],
   "source": [
    "x = np.array([1,2,3])\n",
    "\n",
    "# row vector via reshape\n",
    "print(x.shape)\n",
    "print(x)\n",
    "print()\n",
    "\n",
    "x = x.reshape((3,1))\n",
    "print(x.shape)\n",
    "print(x)"
   ]
  },
  {
   "cell_type": "code",
   "execution_count": 62,
   "metadata": {},
   "outputs": [
    {
     "name": "stdout",
     "output_type": "stream",
     "text": [
      "[[1 2 3]]\n",
      "(1, 3)\n"
     ]
    }
   ],
   "source": [
    "x = np.array([1, 2, 3])\n",
    "# row vector via newaxis\n",
    "\n",
    "# It adds an axis of length 1 to the array, effectively increasing its dimensionality.\n",
    "x = x[np.newaxis, :] \n",
    "\n",
    "print(x)\n",
    "print(x.shape)"
   ]
  },
  {
   "cell_type": "code",
   "execution_count": 63,
   "metadata": {},
   "outputs": [
    {
     "data": {
      "text/plain": [
       "array([[1],\n",
       "       [2],\n",
       "       [3]])"
      ]
     },
     "execution_count": 63,
     "metadata": {},
     "output_type": "execute_result"
    }
   ],
   "source": [
    "x = np.array([1, 2, 3])\n",
    "\n",
    "# column vector via reshape\n",
    "x.reshape((3, 1))"
   ]
  },
  {
   "cell_type": "code",
   "execution_count": 64,
   "metadata": {},
   "outputs": [
    {
     "name": "stdout",
     "output_type": "stream",
     "text": [
      "(3, 1)\n"
     ]
    }
   ],
   "source": [
    "# column vector via newaxis\n",
    "x = np.array([1, 2, 3])\n",
    "x=x[:, np.newaxis]\n",
    "print(x.shape)"
   ]
  },
  {
   "cell_type": "markdown",
   "metadata": {},
   "source": [
    "# Concatenation of arrays\n",
    "\n",
    "`np.concatenate`, `np.vstack`, `np.hstack`, `np.concatenate`"
   ]
  },
  {
   "cell_type": "code",
   "execution_count": 68,
   "metadata": {},
   "outputs": [
    {
     "name": "stdout",
     "output_type": "stream",
     "text": [
      "[1 2 3 3 2 1]\n"
     ]
    }
   ],
   "source": [
    "x = np.array([1,2,3])\n",
    "y = np.array([3,2,1])\n",
    "print(np.concatenate([x,y]))"
   ]
  },
  {
   "cell_type": "code",
   "execution_count": 69,
   "metadata": {},
   "outputs": [
    {
     "name": "stdout",
     "output_type": "stream",
     "text": [
      "[ 1  2  3  3  2  1 99 99 99]\n"
     ]
    }
   ],
   "source": [
    "z = [99, 99, 99]\n",
    "print(np.concatenate([x,y,z]))"
   ]
  },
  {
   "cell_type": "code",
   "execution_count": 70,
   "metadata": {},
   "outputs": [
    {
     "name": "stdout",
     "output_type": "stream",
     "text": [
      "(2, 3)\n"
     ]
    }
   ],
   "source": [
    "grid = np.array([[1,2,3], \n",
    "                 [4,5,6]])\n",
    "\n",
    "print(grid.shape)"
   ]
  },
  {
   "cell_type": "code",
   "execution_count": 72,
   "metadata": {},
   "outputs": [
    {
     "name": "stdout",
     "output_type": "stream",
     "text": [
      "[[1 2 3]\n",
      " [4 5 6]\n",
      " [1 2 3]\n",
      " [4 5 6]]\n",
      "(4, 3)\n",
      "\n",
      "[[1 2 3 1 2 3]\n",
      " [4 5 6 4 5 6]]\n",
      "(2, 6)\n"
     ]
    }
   ],
   "source": [
    "# concatenate along the first axis (row)\n",
    "new_grid = np.concatenate([grid, grid], axis=0)\n",
    "print(new_grid)\n",
    "print(new_grid.shape)\n",
    "print()\n",
    "\n",
    "# concatenate along the second axis (zero-indexed) (column)\n",
    "new_grid = np.concatenate([grid, grid], axis=1)\n",
    "print(new_grid)\n",
    "print(new_grid.shape)"
   ]
  },
  {
   "cell_type": "code",
   "execution_count": 73,
   "metadata": {},
   "outputs": [
    {
     "name": "stdout",
     "output_type": "stream",
     "text": [
      "6\n",
      "1\n",
      "21\n"
     ]
    }
   ],
   "source": [
    "data = np.array([[1,2], [3,4,],[5,6]])\n",
    "\n",
    "print(np.max(data))  # Compute max of all elements; prints \"6\"\n",
    "print(np.min(data))  # Compute min of all elements; prints \"1\"\n",
    "print(np.sum(data))  # Compute sum of all elements; prints \"21\""
   ]
  }
 ],
 "metadata": {
  "kernelspec": {
   "display_name": "base",
   "language": "python",
   "name": "python3"
  },
  "language_info": {
   "codemirror_mode": {
    "name": "ipython",
    "version": 3
   },
   "file_extension": ".py",
   "mimetype": "text/x-python",
   "name": "python",
   "nbconvert_exporter": "python",
   "pygments_lexer": "ipython3",
   "version": "3.11.5"
  }
 },
 "nbformat": 4,
 "nbformat_minor": 2
}
