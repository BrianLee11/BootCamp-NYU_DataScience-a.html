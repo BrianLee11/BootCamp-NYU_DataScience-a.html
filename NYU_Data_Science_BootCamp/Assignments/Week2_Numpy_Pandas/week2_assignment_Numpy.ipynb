{
 "cells": [
  {
   "cell_type": "markdown",
   "metadata": {},
   "source": [
    "# Week 2's assignment\n",
    "\n",
    "**Practice Questions for numpy**\n",
    "1. Define two custom numpy arrays, say A and B. Generate two new numpy arrays by stacking A and B vertically and horizontally.\n",
    "2. Find common elements between A and B. [Hint : Intersection of two sets]\n",
    "3. Extract all numbers from A which are within a specific range. eg between 5 and 10. [Hint: np.where() might be useful or boolean masks]\n",
    "4. Filter the rows of iris_2d that has petallength (3rd column) > 1.5 and sepallength (1st column) < 5.0\n",
    "\n",
    "url = 'https://archive.ics.uci.edu/ml/machine-learning-databases/iris/iris.data'\n",
    "\n",
    "iris_2d = np.genfromtxt(url, delimiter=',', dtype='float', usecols=[0,1,2,3])"
   ]
  },
  {
   "cell_type": "code",
   "execution_count": 48,
   "metadata": {},
   "outputs": [
    {
     "data": {
      "text/plain": [
       "[]"
      ]
     },
     "execution_count": 48,
     "metadata": {},
     "output_type": "execute_result"
    }
   ],
   "source": [
    "## Optional Practice Question\n",
    "\n",
    "#Find the mean of a numeric column grouped by a categorical column in a 2D numpy array\n",
    "\n",
    "url = 'https://archive.ics.uci.edu/ml/machine-learning-databases/iris/iris.data'\n",
    "iris = np.genfromtxt(url, delimiter=',', dtype='object')\n",
    "names = ('sepallength', 'sepalwidth', 'petallength', 'petalwidth', 'species')\n",
    "\n",
    "\n",
    "numeric_column = iris[:, 1].astype('float')  # sepalwidth\n",
    "grouping_column = iris[:, 4]  # species\n",
    "\n",
    "output = []\n",
    "\"\"\"Your code goes here\"\"\"\n",
    "\n",
    "output"
   ]
  },
  {
   "cell_type": "markdown",
   "metadata": {},
   "source": [
    "# **Question 1**. \n",
    "\n",
    "Define two custom numpy arrays, say A and B.\n",
    "\n",
    "Generate two new numpy arrays by stacking A and B vertically and horizontally."
   ]
  },
  {
   "cell_type": "code",
   "execution_count": 49,
   "metadata": {},
   "outputs": [],
   "source": [
    "import numpy as np"
   ]
  },
  {
   "cell_type": "code",
   "execution_count": 50,
   "metadata": {},
   "outputs": [
    {
     "name": "stdout",
     "output_type": "stream",
     "text": [
      "[[0 1 2]\n",
      " [3 4 5]\n",
      " [6 7 8]]\n",
      "\n",
      "[[ 5  6  7]\n",
      " [ 8  9 10]\n",
      " [11 12 13]]\n"
     ]
    }
   ],
   "source": [
    "# Define two custom numpy arrays A and B\n",
    "A = np.arange(0,9).reshape(3,3)\n",
    "print(A)\n",
    "print()\n",
    "\n",
    "B = np.arange(5,14).reshape(3,3)\n",
    "print(B)"
   ]
  },
  {
   "cell_type": "code",
   "execution_count": 51,
   "metadata": {},
   "outputs": [
    {
     "name": "stdout",
     "output_type": "stream",
     "text": [
      "Vertical stack\n",
      "[[ 0  1  2]\n",
      " [ 3  4  5]\n",
      " [ 6  7  8]\n",
      " [ 5  6  7]\n",
      " [ 8  9 10]\n",
      " [11 12 13]]\n",
      "\n",
      "Horizontal stack\n",
      "[[ 0  1  2  5  6  7]\n",
      " [ 3  4  5  8  9 10]\n",
      " [ 6  7  8 11 12 13]]\n"
     ]
    }
   ],
   "source": [
    "# Solution\n",
    "# stacking A and B vertically\n",
    "stack_vertical = np.concatenate([A,B], axis = 0)\n",
    "print(\"Vertical stack\")\n",
    "print(stack_vertical)\n",
    "print()\n",
    "\n",
    "# stacking A and B horizontally\n",
    "stack_horizontal = np.concatenate([A,B], axis = 1)\n",
    "print(\"Horizontal stack\")\n",
    "print(stack_horizontal)"
   ]
  },
  {
   "cell_type": "markdown",
   "metadata": {},
   "source": [
    "# **Question 2**. \n",
    "\n",
    "Find common elements between A and B. \n",
    "\n",
    "[Hint: Intersection of two sets]"
   ]
  },
  {
   "cell_type": "code",
   "execution_count": 52,
   "metadata": {},
   "outputs": [
    {
     "name": "stdout",
     "output_type": "stream",
     "text": [
      "{1, 3}\n",
      "{1, 3}\n"
     ]
    }
   ],
   "source": [
    "# Example \n",
    "set_A = set()\n",
    "set_A.add(1)\n",
    "set_A.add(2)\n",
    "set_A.add(3)\n",
    "\n",
    "set_B = set()\n",
    "set_B.add(1)\n",
    "set_B.add(3)\n",
    "set_B.add(5)\n",
    "\n",
    "set_intersection = set_A & set_B\n",
    "print(set_intersection)\n",
    "\n",
    "# another method: .intersection()\n",
    "set_intersection_2 = set_A.intersection(set_B)\n",
    "print(set_intersection_2)"
   ]
  },
  {
   "cell_type": "code",
   "execution_count": 53,
   "metadata": {},
   "outputs": [
    {
     "name": "stdout",
     "output_type": "stream",
     "text": [
      "[0 1 2 3 4 5 6 7 8]\n",
      "{0, 1, 2, 3, 4, 5, 6, 7, 8}\n",
      "\n",
      "[ 5  6  7  8  9 10 11 12 13]\n",
      "{5, 6, 7, 8, 9, 10, 11, 12, 13}\n",
      "\n"
     ]
    }
   ],
   "source": [
    "# Solution\n",
    "# flatten arrays\n",
    "A = np.arange(0,9).reshape(3,3)\n",
    "A_flatten = A.flatten()\n",
    "print(A_flatten)\n",
    "\n",
    "A_set = set(A_flatten)\n",
    "print(A_set)\n",
    "print()\n",
    "\n",
    "B = np.arange(5,14).reshape(3,3)\n",
    "B_flatten = B.flatten()\n",
    "print(B_flatten)\n",
    "\n",
    "B_set = set(B_flatten)\n",
    "print(B_set)\n",
    "print()"
   ]
  },
  {
   "cell_type": "code",
   "execution_count": 54,
   "metadata": {},
   "outputs": [
    {
     "name": "stdout",
     "output_type": "stream",
     "text": [
      "A has elements: [0, 1, 2, 3, 4, 5, 6, 7, 8]\n",
      "B has elements: [5, 6, 7, 8, 9, 10, 11, 12, 13]\n",
      "Intersection: {8, 5, 6, 7}\n"
     ]
    }
   ],
   "source": [
    "# use A.intersection(B)\n",
    "intersection_set = A_set.intersection(B_set)\n",
    "print(f\"A has elements: {list(A.flatten())}\")\n",
    "print(f\"B has elements: {list(B.flatten())}\")\n",
    "print(f\"Intersection: {set(intersection_set)}\")"
   ]
  },
  {
   "cell_type": "markdown",
   "metadata": {},
   "source": [
    "# **Question 3**\n",
    "\n",
    "Extract all numbers from A which are within a specific range. (e.g. between 5 and 10.)\n",
    "\n",
    "[Hint: np.where() might be useful or boolean masks]"
   ]
  },
  {
   "cell_type": "code",
   "execution_count": 64,
   "metadata": {},
   "outputs": [
    {
     "name": "stdout",
     "output_type": "stream",
     "text": [
      "Extracted numpy unit: (array([6, 7, 8, 9], dtype=int64),)\n",
      "Values: [6 7 8 9]\n"
     ]
    }
   ],
   "source": [
    "# example\n",
    "example_A = np.arange(0,12)\n",
    "example_A_extract = np.where((example_A > 5) & (example_A < 10))\n",
    "print(f\"Extracted numpy unit: {example_A_extract}\")\n",
    "\n",
    "result_values = example_A[(example_A > 5) & (example_A <10)]\n",
    "print(f\"Values: {result_values}\")"
   ]
  },
  {
   "cell_type": "markdown",
   "metadata": {},
   "source": [
    "# **Question 4**\n",
    "\n",
    "Filter the rows of iris_2d that has petallength (3rd column) > 1.5 and sepallength (1st column) < 5.0"
   ]
  },
  {
   "cell_type": "code",
   "execution_count": 65,
   "metadata": {},
   "outputs": [],
   "source": [
    "url = 'https://archive.ics.uci.edu/ml/machine-learning-databases/iris/iris.data'\n",
    "iris_2d = np.genfromtxt(url, delimiter=',', dtype='float', usecols=[0,1,2,3])"
   ]
  },
  {
   "cell_type": "code",
   "execution_count": 66,
   "metadata": {},
   "outputs": [
    {
     "name": "stdout",
     "output_type": "stream",
     "text": [
      "[[5.1 3.5 1.4 0.2]\n",
      " [4.9 3.  1.4 0.2]\n",
      " [4.7 3.2 1.3 0.2]\n",
      " [4.6 3.1 1.5 0.2]\n",
      " [5.  3.6 1.4 0.2]\n",
      " [5.4 3.9 1.7 0.4]\n",
      " [4.6 3.4 1.4 0.3]\n",
      " [5.  3.4 1.5 0.2]\n",
      " [4.4 2.9 1.4 0.2]\n",
      " [4.9 3.1 1.5 0.1]\n",
      " [5.4 3.7 1.5 0.2]\n",
      " [4.8 3.4 1.6 0.2]\n",
      " [4.8 3.  1.4 0.1]\n",
      " [4.3 3.  1.1 0.1]\n",
      " [5.8 4.  1.2 0.2]\n",
      " [5.7 4.4 1.5 0.4]\n",
      " [5.4 3.9 1.3 0.4]\n",
      " [5.1 3.5 1.4 0.3]\n",
      " [5.7 3.8 1.7 0.3]\n",
      " [5.1 3.8 1.5 0.3]\n",
      " [5.4 3.4 1.7 0.2]\n",
      " [5.1 3.7 1.5 0.4]\n",
      " [4.6 3.6 1.  0.2]\n",
      " [5.1 3.3 1.7 0.5]\n",
      " [4.8 3.4 1.9 0.2]\n",
      " [5.  3.  1.6 0.2]\n",
      " [5.  3.4 1.6 0.4]\n",
      " [5.2 3.5 1.5 0.2]\n",
      " [5.2 3.4 1.4 0.2]\n",
      " [4.7 3.2 1.6 0.2]\n",
      " [4.8 3.1 1.6 0.2]\n",
      " [5.4 3.4 1.5 0.4]\n",
      " [5.2 4.1 1.5 0.1]\n",
      " [5.5 4.2 1.4 0.2]\n",
      " [4.9 3.1 1.5 0.1]\n",
      " [5.  3.2 1.2 0.2]\n",
      " [5.5 3.5 1.3 0.2]\n",
      " [4.9 3.1 1.5 0.1]\n",
      " [4.4 3.  1.3 0.2]\n",
      " [5.1 3.4 1.5 0.2]\n",
      " [5.  3.5 1.3 0.3]\n",
      " [4.5 2.3 1.3 0.3]\n",
      " [4.4 3.2 1.3 0.2]\n",
      " [5.  3.5 1.6 0.6]\n",
      " [5.1 3.8 1.9 0.4]\n",
      " [4.8 3.  1.4 0.3]\n",
      " [5.1 3.8 1.6 0.2]\n",
      " [4.6 3.2 1.4 0.2]\n",
      " [5.3 3.7 1.5 0.2]\n",
      " [5.  3.3 1.4 0.2]\n",
      " [7.  3.2 4.7 1.4]\n",
      " [6.4 3.2 4.5 1.5]\n",
      " [6.9 3.1 4.9 1.5]\n",
      " [5.5 2.3 4.  1.3]\n",
      " [6.5 2.8 4.6 1.5]\n",
      " [5.7 2.8 4.5 1.3]\n",
      " [6.3 3.3 4.7 1.6]\n",
      " [4.9 2.4 3.3 1. ]\n",
      " [6.6 2.9 4.6 1.3]\n",
      " [5.2 2.7 3.9 1.4]\n",
      " [5.  2.  3.5 1. ]\n",
      " [5.9 3.  4.2 1.5]\n",
      " [6.  2.2 4.  1. ]\n",
      " [6.1 2.9 4.7 1.4]\n",
      " [5.6 2.9 3.6 1.3]\n",
      " [6.7 3.1 4.4 1.4]\n",
      " [5.6 3.  4.5 1.5]\n",
      " [5.8 2.7 4.1 1. ]\n",
      " [6.2 2.2 4.5 1.5]\n",
      " [5.6 2.5 3.9 1.1]\n",
      " [5.9 3.2 4.8 1.8]\n",
      " [6.1 2.8 4.  1.3]\n",
      " [6.3 2.5 4.9 1.5]\n",
      " [6.1 2.8 4.7 1.2]\n",
      " [6.4 2.9 4.3 1.3]\n",
      " [6.6 3.  4.4 1.4]\n",
      " [6.8 2.8 4.8 1.4]\n",
      " [6.7 3.  5.  1.7]\n",
      " [6.  2.9 4.5 1.5]\n",
      " [5.7 2.6 3.5 1. ]\n",
      " [5.5 2.4 3.8 1.1]\n",
      " [5.5 2.4 3.7 1. ]\n",
      " [5.8 2.7 3.9 1.2]\n",
      " [6.  2.7 5.1 1.6]\n",
      " [5.4 3.  4.5 1.5]\n",
      " [6.  3.4 4.5 1.6]\n",
      " [6.7 3.1 4.7 1.5]\n",
      " [6.3 2.3 4.4 1.3]\n",
      " [5.6 3.  4.1 1.3]\n",
      " [5.5 2.5 4.  1.3]\n",
      " [5.5 2.6 4.4 1.2]\n",
      " [6.1 3.  4.6 1.4]\n",
      " [5.8 2.6 4.  1.2]\n",
      " [5.  2.3 3.3 1. ]\n",
      " [5.6 2.7 4.2 1.3]\n",
      " [5.7 3.  4.2 1.2]\n",
      " [5.7 2.9 4.2 1.3]\n",
      " [6.2 2.9 4.3 1.3]\n",
      " [5.1 2.5 3.  1.1]\n",
      " [5.7 2.8 4.1 1.3]\n",
      " [6.3 3.3 6.  2.5]\n",
      " [5.8 2.7 5.1 1.9]\n",
      " [7.1 3.  5.9 2.1]\n",
      " [6.3 2.9 5.6 1.8]\n",
      " [6.5 3.  5.8 2.2]\n",
      " [7.6 3.  6.6 2.1]\n",
      " [4.9 2.5 4.5 1.7]\n",
      " [7.3 2.9 6.3 1.8]\n",
      " [6.7 2.5 5.8 1.8]\n",
      " [7.2 3.6 6.1 2.5]\n",
      " [6.5 3.2 5.1 2. ]\n",
      " [6.4 2.7 5.3 1.9]\n",
      " [6.8 3.  5.5 2.1]\n",
      " [5.7 2.5 5.  2. ]\n",
      " [5.8 2.8 5.1 2.4]\n",
      " [6.4 3.2 5.3 2.3]\n",
      " [6.5 3.  5.5 1.8]\n",
      " [7.7 3.8 6.7 2.2]\n",
      " [7.7 2.6 6.9 2.3]\n",
      " [6.  2.2 5.  1.5]\n",
      " [6.9 3.2 5.7 2.3]\n",
      " [5.6 2.8 4.9 2. ]\n",
      " [7.7 2.8 6.7 2. ]\n",
      " [6.3 2.7 4.9 1.8]\n",
      " [6.7 3.3 5.7 2.1]\n",
      " [7.2 3.2 6.  1.8]\n",
      " [6.2 2.8 4.8 1.8]\n",
      " [6.1 3.  4.9 1.8]\n",
      " [6.4 2.8 5.6 2.1]\n",
      " [7.2 3.  5.8 1.6]\n",
      " [7.4 2.8 6.1 1.9]\n",
      " [7.9 3.8 6.4 2. ]\n",
      " [6.4 2.8 5.6 2.2]\n",
      " [6.3 2.8 5.1 1.5]\n",
      " [6.1 2.6 5.6 1.4]\n",
      " [7.7 3.  6.1 2.3]\n",
      " [6.3 3.4 5.6 2.4]\n",
      " [6.4 3.1 5.5 1.8]\n",
      " [6.  3.  4.8 1.8]\n",
      " [6.9 3.1 5.4 2.1]\n",
      " [6.7 3.1 5.6 2.4]\n",
      " [6.9 3.1 5.1 2.3]\n",
      " [5.8 2.7 5.1 1.9]\n",
      " [6.8 3.2 5.9 2.3]\n",
      " [6.7 3.3 5.7 2.5]\n",
      " [6.7 3.  5.2 2.3]\n",
      " [6.3 2.5 5.  1.9]\n",
      " [6.5 3.  5.2 2. ]\n",
      " [6.2 3.4 5.4 2.3]\n",
      " [5.9 3.  5.1 1.8]]\n"
     ]
    }
   ],
   "source": [
    "print(iris_2d)"
   ]
  },
  {
   "cell_type": "code",
   "execution_count": 97,
   "metadata": {},
   "outputs": [
    {
     "name": "stdout",
     "output_type": "stream",
     "text": [
      "2\n",
      "float64\n",
      "(150, 4)\n",
      "[5.1 3.5 1.4 0.2]\n",
      "5.1\n",
      "[5.1 3.5 1.4 0.2]\n",
      "[5.1 4.9 4.7 4.6 5.  5.4 4.6 5.  4.4 4.9 5.4 4.8 4.8 4.3 5.8 5.7 5.4 5.1\n",
      " 5.7 5.1 5.4 5.1 4.6 5.1 4.8 5.  5.  5.2 5.2 4.7 4.8 5.4 5.2 5.5 4.9 5.\n",
      " 5.5 4.9 4.4 5.1 5.  4.5 4.4 5.  5.1 4.8 5.1 4.6 5.3 5.  7.  6.4 6.9 5.5\n",
      " 6.5 5.7 6.3 4.9 6.6 5.2 5.  5.9 6.  6.1 5.6 6.7 5.6 5.8 6.2 5.6 5.9 6.1\n",
      " 6.3 6.1 6.4 6.6 6.8 6.7 6.  5.7 5.5 5.5 5.8 6.  5.4 6.  6.7 6.3 5.6 5.5\n",
      " 5.5 6.1 5.8 5.  5.6 5.7 5.7 6.2 5.1 5.7 6.3 5.8 7.1 6.3 6.5 7.6 4.9 7.3\n",
      " 6.7 7.2 6.5 6.4 6.8 5.7 5.8 6.4 6.5 7.7 7.7 6.  6.9 5.6 7.7 6.3 6.7 7.2\n",
      " 6.2 6.1 6.4 7.2 7.4 7.9 6.4 6.3 6.1 7.7 6.3 6.4 6.  6.9 6.7 6.9 5.8 6.8\n",
      " 6.7 6.7 6.3 6.5 6.2 5.9]\n"
     ]
    }
   ],
   "source": [
    "print(iris_2d.ndim)\n",
    "print(iris_2d.dtype)\n",
    "print(iris_2d.shape)\n",
    "print(iris_2d[0])\n",
    "print(iris_2d[0,0])\n",
    "print(iris_2d[0,:])\n",
    "print(iris_2d[:,0])"
   ]
  },
  {
   "cell_type": "code",
   "execution_count": 99,
   "metadata": {},
   "outputs": [
    {
     "name": "stdout",
     "output_type": "stream",
     "text": [
      "[1.4 1.4 1.3 1.5 1.4 1.7 1.4 1.5 1.4 1.5 1.5 1.6 1.4 1.1 1.2 1.5 1.3 1.4\n",
      " 1.7 1.5 1.7 1.5 1.  1.7 1.9 1.6 1.6 1.5 1.4 1.6 1.6 1.5 1.5 1.4 1.5 1.2\n",
      " 1.3 1.5 1.3 1.5 1.3 1.3 1.3 1.6 1.9 1.4 1.6 1.4 1.5 1.4 4.7 4.5 4.9 4.\n",
      " 4.6 4.5 4.7 3.3 4.6 3.9 3.5 4.2 4.  4.7 3.6 4.4 4.5 4.1 4.5 3.9 4.8 4.\n",
      " 4.9 4.7 4.3 4.4 4.8 5.  4.5 3.5 3.8 3.7 3.9 5.1 4.5 4.5 4.7 4.4 4.1 4.\n",
      " 4.4 4.6 4.  3.3 4.2 4.2 4.2 4.3 3.  4.1 6.  5.1 5.9 5.6 5.8 6.6 4.5 6.3\n",
      " 5.8 6.1 5.1 5.3 5.5 5.  5.1 5.3 5.5 6.7 6.9 5.  5.7 4.9 6.7 4.9 5.7 6.\n",
      " 4.8 4.9 5.6 5.8 6.1 6.4 5.6 5.1 5.6 6.1 5.6 5.5 4.8 5.4 5.6 5.1 5.1 5.9\n",
      " 5.7 5.2 5.  5.2 5.4 5.1]\n"
     ]
    }
   ],
   "source": [
    "print(iris_2d[:,2])"
   ]
  },
  {
   "cell_type": "code",
   "execution_count": 107,
   "metadata": {},
   "outputs": [
    {
     "name": "stdout",
     "output_type": "stream",
     "text": [
      "[[5.4 3.9 1.7 0.4]\n",
      " [4.8 3.4 1.6 0.2]\n",
      " [5.7 3.8 1.7 0.3]\n",
      " [5.4 3.4 1.7 0.2]\n",
      " [5.1 3.3 1.7 0.5]\n",
      " [4.8 3.4 1.9 0.2]\n",
      " [5.  3.  1.6 0.2]\n",
      " [5.  3.4 1.6 0.4]\n",
      " [4.7 3.2 1.6 0.2]\n",
      " [4.8 3.1 1.6 0.2]\n",
      " [5.  3.5 1.6 0.6]\n",
      " [5.1 3.8 1.9 0.4]\n",
      " [5.1 3.8 1.6 0.2]\n",
      " [7.  3.2 4.7 1.4]\n",
      " [6.4 3.2 4.5 1.5]\n",
      " [6.9 3.1 4.9 1.5]\n",
      " [5.5 2.3 4.  1.3]\n",
      " [6.5 2.8 4.6 1.5]\n",
      " [5.7 2.8 4.5 1.3]\n",
      " [6.3 3.3 4.7 1.6]\n",
      " [4.9 2.4 3.3 1. ]\n",
      " [6.6 2.9 4.6 1.3]\n",
      " [5.2 2.7 3.9 1.4]\n",
      " [5.  2.  3.5 1. ]\n",
      " [5.9 3.  4.2 1.5]\n",
      " [6.  2.2 4.  1. ]\n",
      " [6.1 2.9 4.7 1.4]\n",
      " [5.6 2.9 3.6 1.3]\n",
      " [6.7 3.1 4.4 1.4]\n",
      " [5.6 3.  4.5 1.5]\n",
      " [5.8 2.7 4.1 1. ]\n",
      " [6.2 2.2 4.5 1.5]\n",
      " [5.6 2.5 3.9 1.1]\n",
      " [5.9 3.2 4.8 1.8]\n",
      " [6.1 2.8 4.  1.3]\n",
      " [6.3 2.5 4.9 1.5]\n",
      " [6.1 2.8 4.7 1.2]\n",
      " [6.4 2.9 4.3 1.3]\n",
      " [6.6 3.  4.4 1.4]\n",
      " [6.8 2.8 4.8 1.4]\n",
      " [6.7 3.  5.  1.7]\n",
      " [6.  2.9 4.5 1.5]\n",
      " [5.7 2.6 3.5 1. ]\n",
      " [5.5 2.4 3.8 1.1]\n",
      " [5.5 2.4 3.7 1. ]\n",
      " [5.8 2.7 3.9 1.2]\n",
      " [6.  2.7 5.1 1.6]\n",
      " [5.4 3.  4.5 1.5]\n",
      " [6.  3.4 4.5 1.6]\n",
      " [6.7 3.1 4.7 1.5]\n",
      " [6.3 2.3 4.4 1.3]\n",
      " [5.6 3.  4.1 1.3]\n",
      " [5.5 2.5 4.  1.3]\n",
      " [5.5 2.6 4.4 1.2]\n",
      " [6.1 3.  4.6 1.4]\n",
      " [5.8 2.6 4.  1.2]\n",
      " [5.  2.3 3.3 1. ]\n",
      " [5.6 2.7 4.2 1.3]\n",
      " [5.7 3.  4.2 1.2]\n",
      " [5.7 2.9 4.2 1.3]\n",
      " [6.2 2.9 4.3 1.3]\n",
      " [5.1 2.5 3.  1.1]\n",
      " [5.7 2.8 4.1 1.3]\n",
      " [6.3 3.3 6.  2.5]\n",
      " [5.8 2.7 5.1 1.9]\n",
      " [7.1 3.  5.9 2.1]\n",
      " [6.3 2.9 5.6 1.8]\n",
      " [6.5 3.  5.8 2.2]\n",
      " [7.6 3.  6.6 2.1]\n",
      " [4.9 2.5 4.5 1.7]\n",
      " [7.3 2.9 6.3 1.8]\n",
      " [6.7 2.5 5.8 1.8]\n",
      " [7.2 3.6 6.1 2.5]\n",
      " [6.5 3.2 5.1 2. ]\n",
      " [6.4 2.7 5.3 1.9]\n",
      " [6.8 3.  5.5 2.1]\n",
      " [5.7 2.5 5.  2. ]\n",
      " [5.8 2.8 5.1 2.4]\n",
      " [6.4 3.2 5.3 2.3]\n",
      " [6.5 3.  5.5 1.8]\n",
      " [7.7 3.8 6.7 2.2]\n",
      " [7.7 2.6 6.9 2.3]\n",
      " [6.  2.2 5.  1.5]\n",
      " [6.9 3.2 5.7 2.3]\n",
      " [5.6 2.8 4.9 2. ]\n",
      " [7.7 2.8 6.7 2. ]\n",
      " [6.3 2.7 4.9 1.8]\n",
      " [6.7 3.3 5.7 2.1]\n",
      " [7.2 3.2 6.  1.8]\n",
      " [6.2 2.8 4.8 1.8]\n",
      " [6.1 3.  4.9 1.8]\n",
      " [6.4 2.8 5.6 2.1]\n",
      " [7.2 3.  5.8 1.6]\n",
      " [7.4 2.8 6.1 1.9]\n",
      " [7.9 3.8 6.4 2. ]\n",
      " [6.4 2.8 5.6 2.2]\n",
      " [6.3 2.8 5.1 1.5]\n",
      " [6.1 2.6 5.6 1.4]\n",
      " [7.7 3.  6.1 2.3]\n",
      " [6.3 3.4 5.6 2.4]\n",
      " [6.4 3.1 5.5 1.8]\n",
      " [6.  3.  4.8 1.8]\n",
      " [6.9 3.1 5.4 2.1]\n",
      " [6.7 3.1 5.6 2.4]\n",
      " [6.9 3.1 5.1 2.3]\n",
      " [5.8 2.7 5.1 1.9]\n",
      " [6.8 3.2 5.9 2.3]\n",
      " [6.7 3.3 5.7 2.5]\n",
      " [6.7 3.  5.2 2.3]\n",
      " [6.3 2.5 5.  1.9]\n",
      " [6.5 3.  5.2 2. ]\n",
      " [6.2 3.4 5.4 2.3]\n",
      " [5.9 3.  5.1 1.8]]\n"
     ]
    }
   ],
   "source": [
    "# Filter the rows of iris_2d such that the 1st column has > 5.0\n",
    "print(iris_2d[iris_2d[:, 0] < 1.5])"
   ]
  },
  {
   "cell_type": "code",
   "execution_count": 108,
   "metadata": {},
   "outputs": [
    {
     "name": "stdout",
     "output_type": "stream",
     "text": [
      "[[5.1 3.5 1.4 0.2]\n",
      " [5.4 3.9 1.7 0.4]\n",
      " [5.4 3.7 1.5 0.2]\n",
      " [5.8 4.  1.2 0.2]\n",
      " [5.7 4.4 1.5 0.4]\n",
      " [5.4 3.9 1.3 0.4]\n",
      " [5.1 3.5 1.4 0.3]\n",
      " [5.7 3.8 1.7 0.3]\n",
      " [5.1 3.8 1.5 0.3]\n",
      " [5.4 3.4 1.7 0.2]\n",
      " [5.1 3.7 1.5 0.4]\n",
      " [5.1 3.3 1.7 0.5]\n",
      " [5.2 3.5 1.5 0.2]\n",
      " [5.2 3.4 1.4 0.2]\n",
      " [5.4 3.4 1.5 0.4]\n",
      " [5.2 4.1 1.5 0.1]\n",
      " [5.5 4.2 1.4 0.2]\n",
      " [5.5 3.5 1.3 0.2]\n",
      " [5.1 3.4 1.5 0.2]\n",
      " [5.1 3.8 1.9 0.4]\n",
      " [5.1 3.8 1.6 0.2]\n",
      " [5.3 3.7 1.5 0.2]\n",
      " [7.  3.2 4.7 1.4]\n",
      " [6.4 3.2 4.5 1.5]\n",
      " [6.9 3.1 4.9 1.5]\n",
      " [5.5 2.3 4.  1.3]\n",
      " [6.5 2.8 4.6 1.5]\n",
      " [5.7 2.8 4.5 1.3]\n",
      " [6.3 3.3 4.7 1.6]\n",
      " [6.6 2.9 4.6 1.3]\n",
      " [5.2 2.7 3.9 1.4]\n",
      " [5.9 3.  4.2 1.5]\n",
      " [6.  2.2 4.  1. ]\n",
      " [6.1 2.9 4.7 1.4]\n",
      " [5.6 2.9 3.6 1.3]\n",
      " [6.7 3.1 4.4 1.4]\n",
      " [5.6 3.  4.5 1.5]\n",
      " [5.8 2.7 4.1 1. ]\n",
      " [6.2 2.2 4.5 1.5]\n",
      " [5.6 2.5 3.9 1.1]\n",
      " [5.9 3.2 4.8 1.8]\n",
      " [6.1 2.8 4.  1.3]\n",
      " [6.3 2.5 4.9 1.5]\n",
      " [6.1 2.8 4.7 1.2]\n",
      " [6.4 2.9 4.3 1.3]\n",
      " [6.6 3.  4.4 1.4]\n",
      " [6.8 2.8 4.8 1.4]\n",
      " [6.7 3.  5.  1.7]\n",
      " [6.  2.9 4.5 1.5]\n",
      " [5.7 2.6 3.5 1. ]\n",
      " [5.5 2.4 3.8 1.1]\n",
      " [5.5 2.4 3.7 1. ]\n",
      " [5.8 2.7 3.9 1.2]\n",
      " [6.  2.7 5.1 1.6]\n",
      " [5.4 3.  4.5 1.5]\n",
      " [6.  3.4 4.5 1.6]\n",
      " [6.7 3.1 4.7 1.5]\n",
      " [6.3 2.3 4.4 1.3]\n",
      " [5.6 3.  4.1 1.3]\n",
      " [5.5 2.5 4.  1.3]\n",
      " [5.5 2.6 4.4 1.2]\n",
      " [6.1 3.  4.6 1.4]\n",
      " [5.8 2.6 4.  1.2]\n",
      " [5.6 2.7 4.2 1.3]\n",
      " [5.7 3.  4.2 1.2]\n",
      " [5.7 2.9 4.2 1.3]\n",
      " [6.2 2.9 4.3 1.3]\n",
      " [5.1 2.5 3.  1.1]\n",
      " [5.7 2.8 4.1 1.3]\n",
      " [6.3 3.3 6.  2.5]\n",
      " [5.8 2.7 5.1 1.9]\n",
      " [7.1 3.  5.9 2.1]\n",
      " [6.3 2.9 5.6 1.8]\n",
      " [6.5 3.  5.8 2.2]\n",
      " [7.6 3.  6.6 2.1]\n",
      " [7.3 2.9 6.3 1.8]\n",
      " [6.7 2.5 5.8 1.8]\n",
      " [7.2 3.6 6.1 2.5]\n",
      " [6.5 3.2 5.1 2. ]\n",
      " [6.4 2.7 5.3 1.9]\n",
      " [6.8 3.  5.5 2.1]\n",
      " [5.7 2.5 5.  2. ]\n",
      " [5.8 2.8 5.1 2.4]\n",
      " [6.4 3.2 5.3 2.3]\n",
      " [6.5 3.  5.5 1.8]\n",
      " [7.7 3.8 6.7 2.2]\n",
      " [7.7 2.6 6.9 2.3]\n",
      " [6.  2.2 5.  1.5]\n",
      " [6.9 3.2 5.7 2.3]\n",
      " [5.6 2.8 4.9 2. ]\n",
      " [7.7 2.8 6.7 2. ]\n",
      " [6.3 2.7 4.9 1.8]\n",
      " [6.7 3.3 5.7 2.1]\n",
      " [7.2 3.2 6.  1.8]\n",
      " [6.2 2.8 4.8 1.8]\n",
      " [6.1 3.  4.9 1.8]\n",
      " [6.4 2.8 5.6 2.1]\n",
      " [7.2 3.  5.8 1.6]\n",
      " [7.4 2.8 6.1 1.9]\n",
      " [7.9 3.8 6.4 2. ]\n",
      " [6.4 2.8 5.6 2.2]\n",
      " [6.3 2.8 5.1 1.5]\n",
      " [6.1 2.6 5.6 1.4]\n",
      " [7.7 3.  6.1 2.3]\n",
      " [6.3 3.4 5.6 2.4]\n",
      " [6.4 3.1 5.5 1.8]\n",
      " [6.  3.  4.8 1.8]\n",
      " [6.9 3.1 5.4 2.1]\n",
      " [6.7 3.1 5.6 2.4]\n",
      " [6.9 3.1 5.1 2.3]\n",
      " [5.8 2.7 5.1 1.9]\n",
      " [6.8 3.2 5.9 2.3]\n",
      " [6.7 3.3 5.7 2.5]\n",
      " [6.7 3.  5.2 2.3]\n",
      " [6.3 2.5 5.  1.9]\n",
      " [6.5 3.  5.2 2. ]\n",
      " [6.2 3.4 5.4 2.3]\n",
      " [5.9 3.  5.1 1.8]]\n"
     ]
    }
   ],
   "source": [
    "# Filter the rows of iris_2d such that the 1st column has > 5.0\n",
    "print(iris_2d[iris_2d[:, 0] > 5.0])"
   ]
  },
  {
   "cell_type": "code",
   "execution_count": 117,
   "metadata": {},
   "outputs": [
    {
     "data": {
      "text/plain": [
       "array([[4.8, 3.4, 1.6, 0.2],\n",
       "       [4.8, 3.4, 1.9, 0.2],\n",
       "       [4.7, 3.2, 1.6, 0.2],\n",
       "       [4.8, 3.1, 1.6, 0.2],\n",
       "       [4.9, 2.4, 3.3, 1. ],\n",
       "       [4.9, 2.5, 4.5, 1.7]])"
      ]
     },
     "execution_count": 117,
     "metadata": {},
     "output_type": "execute_result"
    }
   ],
   "source": [
    "# 3rd column > 1.5 and 1st column < 5\n",
    "iris_2d[(iris_2d[:,2] > 1.5) & (iris_2d[:,0] < 5)]"
   ]
  },
  {
   "cell_type": "code",
   "execution_count": 118,
   "metadata": {},
   "outputs": [
    {
     "name": "stdout",
     "output_type": "stream",
     "text": [
      "[[4.8 3.4 1.6 0.2]\n",
      " [4.8 3.4 1.9 0.2]\n",
      " [4.7 3.2 1.6 0.2]\n",
      " [4.8 3.1 1.6 0.2]\n",
      " [4.9 2.4 3.3 1. ]\n",
      " [4.9 2.5 4.5 1.7]]\n"
     ]
    }
   ],
   "source": [
    "# save as an object\n",
    "iris_2d_filtered = iris_2d[(iris_2d[:,2] > 1.5) & (iris_2d[:,0] < 5)]\n",
    "print(iris_2d_filtered)"
   ]
  },
  {
   "cell_type": "markdown",
   "metadata": {},
   "source": [
    "# **Optional Practice Question**"
   ]
  },
  {
   "cell_type": "code",
   "execution_count": 119,
   "metadata": {},
   "outputs": [],
   "source": [
    "# Find the mean of a numeric column grouped by a categorical column in a 2D numpy array\n",
    "\n",
    "url = 'https://archive.ics.uci.edu/ml/machine-learning-databases/iris/iris.data'\n",
    "iris = np.genfromtxt(url, delimiter=',', dtype='object')\n",
    "names = ('sepallength', 'sepalwidth', 'petallength', 'petalwidth', 'species')"
   ]
  },
  {
   "cell_type": "code",
   "execution_count": 120,
   "metadata": {},
   "outputs": [
    {
     "name": "stdout",
     "output_type": "stream",
     "text": [
      "[[b'5.1' b'3.5' b'1.4' b'0.2' b'Iris-setosa']\n",
      " [b'4.9' b'3.0' b'1.4' b'0.2' b'Iris-setosa']\n",
      " [b'4.7' b'3.2' b'1.3' b'0.2' b'Iris-setosa']\n",
      " [b'4.6' b'3.1' b'1.5' b'0.2' b'Iris-setosa']\n",
      " [b'5.0' b'3.6' b'1.4' b'0.2' b'Iris-setosa']\n",
      " [b'5.4' b'3.9' b'1.7' b'0.4' b'Iris-setosa']\n",
      " [b'4.6' b'3.4' b'1.4' b'0.3' b'Iris-setosa']\n",
      " [b'5.0' b'3.4' b'1.5' b'0.2' b'Iris-setosa']\n",
      " [b'4.4' b'2.9' b'1.4' b'0.2' b'Iris-setosa']\n",
      " [b'4.9' b'3.1' b'1.5' b'0.1' b'Iris-setosa']\n",
      " [b'5.4' b'3.7' b'1.5' b'0.2' b'Iris-setosa']\n",
      " [b'4.8' b'3.4' b'1.6' b'0.2' b'Iris-setosa']\n",
      " [b'4.8' b'3.0' b'1.4' b'0.1' b'Iris-setosa']\n",
      " [b'4.3' b'3.0' b'1.1' b'0.1' b'Iris-setosa']\n",
      " [b'5.8' b'4.0' b'1.2' b'0.2' b'Iris-setosa']\n",
      " [b'5.7' b'4.4' b'1.5' b'0.4' b'Iris-setosa']\n",
      " [b'5.4' b'3.9' b'1.3' b'0.4' b'Iris-setosa']\n",
      " [b'5.1' b'3.5' b'1.4' b'0.3' b'Iris-setosa']\n",
      " [b'5.7' b'3.8' b'1.7' b'0.3' b'Iris-setosa']\n",
      " [b'5.1' b'3.8' b'1.5' b'0.3' b'Iris-setosa']\n",
      " [b'5.4' b'3.4' b'1.7' b'0.2' b'Iris-setosa']\n",
      " [b'5.1' b'3.7' b'1.5' b'0.4' b'Iris-setosa']\n",
      " [b'4.6' b'3.6' b'1.0' b'0.2' b'Iris-setosa']\n",
      " [b'5.1' b'3.3' b'1.7' b'0.5' b'Iris-setosa']\n",
      " [b'4.8' b'3.4' b'1.9' b'0.2' b'Iris-setosa']\n",
      " [b'5.0' b'3.0' b'1.6' b'0.2' b'Iris-setosa']\n",
      " [b'5.0' b'3.4' b'1.6' b'0.4' b'Iris-setosa']\n",
      " [b'5.2' b'3.5' b'1.5' b'0.2' b'Iris-setosa']\n",
      " [b'5.2' b'3.4' b'1.4' b'0.2' b'Iris-setosa']\n",
      " [b'4.7' b'3.2' b'1.6' b'0.2' b'Iris-setosa']\n",
      " [b'4.8' b'3.1' b'1.6' b'0.2' b'Iris-setosa']\n",
      " [b'5.4' b'3.4' b'1.5' b'0.4' b'Iris-setosa']\n",
      " [b'5.2' b'4.1' b'1.5' b'0.1' b'Iris-setosa']\n",
      " [b'5.5' b'4.2' b'1.4' b'0.2' b'Iris-setosa']\n",
      " [b'4.9' b'3.1' b'1.5' b'0.1' b'Iris-setosa']\n",
      " [b'5.0' b'3.2' b'1.2' b'0.2' b'Iris-setosa']\n",
      " [b'5.5' b'3.5' b'1.3' b'0.2' b'Iris-setosa']\n",
      " [b'4.9' b'3.1' b'1.5' b'0.1' b'Iris-setosa']\n",
      " [b'4.4' b'3.0' b'1.3' b'0.2' b'Iris-setosa']\n",
      " [b'5.1' b'3.4' b'1.5' b'0.2' b'Iris-setosa']\n",
      " [b'5.0' b'3.5' b'1.3' b'0.3' b'Iris-setosa']\n",
      " [b'4.5' b'2.3' b'1.3' b'0.3' b'Iris-setosa']\n",
      " [b'4.4' b'3.2' b'1.3' b'0.2' b'Iris-setosa']\n",
      " [b'5.0' b'3.5' b'1.6' b'0.6' b'Iris-setosa']\n",
      " [b'5.1' b'3.8' b'1.9' b'0.4' b'Iris-setosa']\n",
      " [b'4.8' b'3.0' b'1.4' b'0.3' b'Iris-setosa']\n",
      " [b'5.1' b'3.8' b'1.6' b'0.2' b'Iris-setosa']\n",
      " [b'4.6' b'3.2' b'1.4' b'0.2' b'Iris-setosa']\n",
      " [b'5.3' b'3.7' b'1.5' b'0.2' b'Iris-setosa']\n",
      " [b'5.0' b'3.3' b'1.4' b'0.2' b'Iris-setosa']\n",
      " [b'7.0' b'3.2' b'4.7' b'1.4' b'Iris-versicolor']\n",
      " [b'6.4' b'3.2' b'4.5' b'1.5' b'Iris-versicolor']\n",
      " [b'6.9' b'3.1' b'4.9' b'1.5' b'Iris-versicolor']\n",
      " [b'5.5' b'2.3' b'4.0' b'1.3' b'Iris-versicolor']\n",
      " [b'6.5' b'2.8' b'4.6' b'1.5' b'Iris-versicolor']\n",
      " [b'5.7' b'2.8' b'4.5' b'1.3' b'Iris-versicolor']\n",
      " [b'6.3' b'3.3' b'4.7' b'1.6' b'Iris-versicolor']\n",
      " [b'4.9' b'2.4' b'3.3' b'1.0' b'Iris-versicolor']\n",
      " [b'6.6' b'2.9' b'4.6' b'1.3' b'Iris-versicolor']\n",
      " [b'5.2' b'2.7' b'3.9' b'1.4' b'Iris-versicolor']\n",
      " [b'5.0' b'2.0' b'3.5' b'1.0' b'Iris-versicolor']\n",
      " [b'5.9' b'3.0' b'4.2' b'1.5' b'Iris-versicolor']\n",
      " [b'6.0' b'2.2' b'4.0' b'1.0' b'Iris-versicolor']\n",
      " [b'6.1' b'2.9' b'4.7' b'1.4' b'Iris-versicolor']\n",
      " [b'5.6' b'2.9' b'3.6' b'1.3' b'Iris-versicolor']\n",
      " [b'6.7' b'3.1' b'4.4' b'1.4' b'Iris-versicolor']\n",
      " [b'5.6' b'3.0' b'4.5' b'1.5' b'Iris-versicolor']\n",
      " [b'5.8' b'2.7' b'4.1' b'1.0' b'Iris-versicolor']\n",
      " [b'6.2' b'2.2' b'4.5' b'1.5' b'Iris-versicolor']\n",
      " [b'5.6' b'2.5' b'3.9' b'1.1' b'Iris-versicolor']\n",
      " [b'5.9' b'3.2' b'4.8' b'1.8' b'Iris-versicolor']\n",
      " [b'6.1' b'2.8' b'4.0' b'1.3' b'Iris-versicolor']\n",
      " [b'6.3' b'2.5' b'4.9' b'1.5' b'Iris-versicolor']\n",
      " [b'6.1' b'2.8' b'4.7' b'1.2' b'Iris-versicolor']\n",
      " [b'6.4' b'2.9' b'4.3' b'1.3' b'Iris-versicolor']\n",
      " [b'6.6' b'3.0' b'4.4' b'1.4' b'Iris-versicolor']\n",
      " [b'6.8' b'2.8' b'4.8' b'1.4' b'Iris-versicolor']\n",
      " [b'6.7' b'3.0' b'5.0' b'1.7' b'Iris-versicolor']\n",
      " [b'6.0' b'2.9' b'4.5' b'1.5' b'Iris-versicolor']\n",
      " [b'5.7' b'2.6' b'3.5' b'1.0' b'Iris-versicolor']\n",
      " [b'5.5' b'2.4' b'3.8' b'1.1' b'Iris-versicolor']\n",
      " [b'5.5' b'2.4' b'3.7' b'1.0' b'Iris-versicolor']\n",
      " [b'5.8' b'2.7' b'3.9' b'1.2' b'Iris-versicolor']\n",
      " [b'6.0' b'2.7' b'5.1' b'1.6' b'Iris-versicolor']\n",
      " [b'5.4' b'3.0' b'4.5' b'1.5' b'Iris-versicolor']\n",
      " [b'6.0' b'3.4' b'4.5' b'1.6' b'Iris-versicolor']\n",
      " [b'6.7' b'3.1' b'4.7' b'1.5' b'Iris-versicolor']\n",
      " [b'6.3' b'2.3' b'4.4' b'1.3' b'Iris-versicolor']\n",
      " [b'5.6' b'3.0' b'4.1' b'1.3' b'Iris-versicolor']\n",
      " [b'5.5' b'2.5' b'4.0' b'1.3' b'Iris-versicolor']\n",
      " [b'5.5' b'2.6' b'4.4' b'1.2' b'Iris-versicolor']\n",
      " [b'6.1' b'3.0' b'4.6' b'1.4' b'Iris-versicolor']\n",
      " [b'5.8' b'2.6' b'4.0' b'1.2' b'Iris-versicolor']\n",
      " [b'5.0' b'2.3' b'3.3' b'1.0' b'Iris-versicolor']\n",
      " [b'5.6' b'2.7' b'4.2' b'1.3' b'Iris-versicolor']\n",
      " [b'5.7' b'3.0' b'4.2' b'1.2' b'Iris-versicolor']\n",
      " [b'5.7' b'2.9' b'4.2' b'1.3' b'Iris-versicolor']\n",
      " [b'6.2' b'2.9' b'4.3' b'1.3' b'Iris-versicolor']\n",
      " [b'5.1' b'2.5' b'3.0' b'1.1' b'Iris-versicolor']\n",
      " [b'5.7' b'2.8' b'4.1' b'1.3' b'Iris-versicolor']\n",
      " [b'6.3' b'3.3' b'6.0' b'2.5' b'Iris-virginica']\n",
      " [b'5.8' b'2.7' b'5.1' b'1.9' b'Iris-virginica']\n",
      " [b'7.1' b'3.0' b'5.9' b'2.1' b'Iris-virginica']\n",
      " [b'6.3' b'2.9' b'5.6' b'1.8' b'Iris-virginica']\n",
      " [b'6.5' b'3.0' b'5.8' b'2.2' b'Iris-virginica']\n",
      " [b'7.6' b'3.0' b'6.6' b'2.1' b'Iris-virginica']\n",
      " [b'4.9' b'2.5' b'4.5' b'1.7' b'Iris-virginica']\n",
      " [b'7.3' b'2.9' b'6.3' b'1.8' b'Iris-virginica']\n",
      " [b'6.7' b'2.5' b'5.8' b'1.8' b'Iris-virginica']\n",
      " [b'7.2' b'3.6' b'6.1' b'2.5' b'Iris-virginica']\n",
      " [b'6.5' b'3.2' b'5.1' b'2.0' b'Iris-virginica']\n",
      " [b'6.4' b'2.7' b'5.3' b'1.9' b'Iris-virginica']\n",
      " [b'6.8' b'3.0' b'5.5' b'2.1' b'Iris-virginica']\n",
      " [b'5.7' b'2.5' b'5.0' b'2.0' b'Iris-virginica']\n",
      " [b'5.8' b'2.8' b'5.1' b'2.4' b'Iris-virginica']\n",
      " [b'6.4' b'3.2' b'5.3' b'2.3' b'Iris-virginica']\n",
      " [b'6.5' b'3.0' b'5.5' b'1.8' b'Iris-virginica']\n",
      " [b'7.7' b'3.8' b'6.7' b'2.2' b'Iris-virginica']\n",
      " [b'7.7' b'2.6' b'6.9' b'2.3' b'Iris-virginica']\n",
      " [b'6.0' b'2.2' b'5.0' b'1.5' b'Iris-virginica']\n",
      " [b'6.9' b'3.2' b'5.7' b'2.3' b'Iris-virginica']\n",
      " [b'5.6' b'2.8' b'4.9' b'2.0' b'Iris-virginica']\n",
      " [b'7.7' b'2.8' b'6.7' b'2.0' b'Iris-virginica']\n",
      " [b'6.3' b'2.7' b'4.9' b'1.8' b'Iris-virginica']\n",
      " [b'6.7' b'3.3' b'5.7' b'2.1' b'Iris-virginica']\n",
      " [b'7.2' b'3.2' b'6.0' b'1.8' b'Iris-virginica']\n",
      " [b'6.2' b'2.8' b'4.8' b'1.8' b'Iris-virginica']\n",
      " [b'6.1' b'3.0' b'4.9' b'1.8' b'Iris-virginica']\n",
      " [b'6.4' b'2.8' b'5.6' b'2.1' b'Iris-virginica']\n",
      " [b'7.2' b'3.0' b'5.8' b'1.6' b'Iris-virginica']\n",
      " [b'7.4' b'2.8' b'6.1' b'1.9' b'Iris-virginica']\n",
      " [b'7.9' b'3.8' b'6.4' b'2.0' b'Iris-virginica']\n",
      " [b'6.4' b'2.8' b'5.6' b'2.2' b'Iris-virginica']\n",
      " [b'6.3' b'2.8' b'5.1' b'1.5' b'Iris-virginica']\n",
      " [b'6.1' b'2.6' b'5.6' b'1.4' b'Iris-virginica']\n",
      " [b'7.7' b'3.0' b'6.1' b'2.3' b'Iris-virginica']\n",
      " [b'6.3' b'3.4' b'5.6' b'2.4' b'Iris-virginica']\n",
      " [b'6.4' b'3.1' b'5.5' b'1.8' b'Iris-virginica']\n",
      " [b'6.0' b'3.0' b'4.8' b'1.8' b'Iris-virginica']\n",
      " [b'6.9' b'3.1' b'5.4' b'2.1' b'Iris-virginica']\n",
      " [b'6.7' b'3.1' b'5.6' b'2.4' b'Iris-virginica']\n",
      " [b'6.9' b'3.1' b'5.1' b'2.3' b'Iris-virginica']\n",
      " [b'5.8' b'2.7' b'5.1' b'1.9' b'Iris-virginica']\n",
      " [b'6.8' b'3.2' b'5.9' b'2.3' b'Iris-virginica']\n",
      " [b'6.7' b'3.3' b'5.7' b'2.5' b'Iris-virginica']\n",
      " [b'6.7' b'3.0' b'5.2' b'2.3' b'Iris-virginica']\n",
      " [b'6.3' b'2.5' b'5.0' b'1.9' b'Iris-virginica']\n",
      " [b'6.5' b'3.0' b'5.2' b'2.0' b'Iris-virginica']\n",
      " [b'6.2' b'3.4' b'5.4' b'2.3' b'Iris-virginica']\n",
      " [b'5.9' b'3.0' b'5.1' b'1.8' b'Iris-virginica']]\n"
     ]
    }
   ],
   "source": [
    "print(iris)"
   ]
  },
  {
   "cell_type": "code",
   "execution_count": 122,
   "metadata": {},
   "outputs": [
    {
     "name": "stdout",
     "output_type": "stream",
     "text": [
      "object\n"
     ]
    }
   ],
   "source": [
    "print(iris[:, 1].dtype)"
   ]
  },
  {
   "cell_type": "code",
   "execution_count": 123,
   "metadata": {},
   "outputs": [
    {
     "name": "stdout",
     "output_type": "stream",
     "text": [
      "[b'3.5' b'3.0' b'3.2' b'3.1' b'3.6']\n"
     ]
    }
   ],
   "source": [
    "print(iris[:, 1][:5])"
   ]
  },
  {
   "cell_type": "code",
   "execution_count": 124,
   "metadata": {},
   "outputs": [
    {
     "name": "stdout",
     "output_type": "stream",
     "text": [
      "[3.5 3.  3.2 3.1 3.6 3.9 3.4 3.4 2.9 3.1 3.7 3.4 3.  3.  4.  4.4 3.9 3.5\n",
      " 3.8 3.8 3.4 3.7 3.6 3.3 3.4 3.  3.4 3.5 3.4 3.2 3.1 3.4 4.1 4.2 3.1 3.2\n",
      " 3.5 3.1 3.  3.4 3.5 2.3 3.2 3.5 3.8 3.  3.8 3.2 3.7 3.3 3.2 3.2 3.1 2.3\n",
      " 2.8 2.8 3.3 2.4 2.9 2.7 2.  3.  2.2 2.9 2.9 3.1 3.  2.7 2.2 2.5 3.2 2.8\n",
      " 2.5 2.8 2.9 3.  2.8 3.  2.9 2.6 2.4 2.4 2.7 2.7 3.  3.4 3.1 2.3 3.  2.5\n",
      " 2.6 3.  2.6 2.3 2.7 3.  2.9 2.9 2.5 2.8 3.3 2.7 3.  2.9 3.  3.  2.5 2.9\n",
      " 2.5 3.6 3.2 2.7 3.  2.5 2.8 3.2 3.  3.8 2.6 2.2 3.2 2.8 2.8 2.7 3.3 3.2\n",
      " 2.8 3.  2.8 3.  2.8 3.8 2.8 2.8 2.6 3.  3.4 3.1 3.  3.1 3.1 3.1 2.7 3.2\n",
      " 3.3 3.  2.5 3.  3.4 3. ]\n"
     ]
    }
   ],
   "source": [
    "print(iris[:,1].astype('float')) #sepal width"
   ]
  },
  {
   "cell_type": "code",
   "execution_count": 126,
   "metadata": {},
   "outputs": [],
   "source": [
    "numeric_column = iris[:, 1].astype('float') # sepal width\n",
    "grouping_column = iris[:, 4]                # species"
   ]
  },
  {
   "cell_type": "code",
   "execution_count": 136,
   "metadata": {},
   "outputs": [
    {
     "name": "stdout",
     "output_type": "stream",
     "text": [
      "[3.5 3.  3.2 3.1 3.6]\n",
      "[b'Iris-setosa' b'Iris-setosa' b'Iris-setosa' b'Iris-setosa'\n",
      " b'Iris-setosa']\n",
      "object\n"
     ]
    }
   ],
   "source": [
    "print(numeric_column[:5])\n",
    "print(grouping_column[:5])\n",
    "print(grouping_column.dtype)"
   ]
  },
  {
   "cell_type": "code",
   "execution_count": 134,
   "metadata": {},
   "outputs": [],
   "source": [
    "#Find the mean of a numeric column grouped by a categorical column in a 2D numpy array\n",
    "numeric_column = iris[:, 1].astype('float') # sepal width\n",
    "grouping_column = iris[:, 4]                # species"
   ]
  },
  {
   "cell_type": "code",
   "execution_count": 142,
   "metadata": {},
   "outputs": [
    {
     "name": "stdout",
     "output_type": "stream",
     "text": [
      "<U15\n",
      "['Iris-setosa' 'Iris-setosa' 'Iris-setosa' 'Iris-setosa' 'Iris-setosa']\n",
      "['Iris-setosa' 'Iris-versicolor' 'Iris-virginica']\n"
     ]
    }
   ],
   "source": [
    "grouping_column = grouping_column.astype(str)\n",
    "print(grouping_column.dtype)\n",
    "print(grouping_column[:5])\n",
    "\n",
    "unique_groups = np.unique(grouping_column)\n",
    "print(unique_groups)"
   ]
  },
  {
   "cell_type": "code",
   "execution_count": 144,
   "metadata": {},
   "outputs": [],
   "source": [
    "array_setosa = []\n",
    "array_versicolor = []\n",
    "array_virginica = []"
   ]
  },
  {
   "cell_type": "code",
   "execution_count": 151,
   "metadata": {},
   "outputs": [],
   "source": [
    "for index in range(len(grouping_column)):\n",
    "    if grouping_column[index] == \"Iris-setosa\":\n",
    "        array_setosa.append(numeric_column[index])\n",
    "    elif grouping_column[index] == \"Iris-versicolor\":\n",
    "        array_versicolor.append(numeric_column[index])\n",
    "    elif grouping_column[index] == \"Iris-virginica\":\n",
    "        array_virginica.append(numeric_column[index])"
   ]
  },
  {
   "cell_type": "code",
   "execution_count": 154,
   "metadata": {},
   "outputs": [
    {
     "name": "stdout",
     "output_type": "stream",
     "text": [
      "3.4179999999999997\n",
      "Mean of Iris-setosa: 3.4179999999999997\n",
      "Mean of Iris-versicolor: 2.7700000000000005\n",
      "Mean of Iris-virginica: 2.974\n"
     ]
    }
   ],
   "source": [
    "print(np.mean(array_setosa))\n",
    "print(f\"Mean of Iris-setosa: {np.mean(array_setosa)}\")\n",
    "print(f\"Mean of Iris-versicolor: {np.mean(array_versicolor)}\")\n",
    "print(f\"Mean of Iris-virginica: {np.mean(array_virginica)}\")"
   ]
  },
  {
   "cell_type": "code",
   "execution_count": null,
   "metadata": {},
   "outputs": [],
   "source": []
  }
 ],
 "metadata": {
  "kernelspec": {
   "display_name": "base",
   "language": "python",
   "name": "python3"
  },
  "language_info": {
   "codemirror_mode": {
    "name": "ipython",
    "version": 3
   },
   "file_extension": ".py",
   "mimetype": "text/x-python",
   "name": "python",
   "nbconvert_exporter": "python",
   "pygments_lexer": "ipython3",
   "version": "3.11.5"
  }
 },
 "nbformat": 4,
 "nbformat_minor": 2
}
