{
 "cells": [
  {
   "cell_type": "markdown",
   "metadata": {},
   "source": [
    "**Assignment 1**"
   ]
  },
  {
   "cell_type": "markdown",
   "metadata": {},
   "source": [
    "**Question 1:** \n",
    "\n",
    "Write a function count_vowels(word) that takes a word as an argument and return the number of vowels in the word"
   ]
  },
  {
   "cell_type": "code",
   "execution_count": 11,
   "metadata": {},
   "outputs": [],
   "source": [
    "# Question 1: write a function count_vowels(word) that takes a word as an argument and return the number of vowels in the word\n",
    "\n",
    "def count_vowels(word):\n",
    "    list_vowels = ['a', 'e', 'i', 'o', 'u', 'A', 'E', 'I', 'O', 'U']\n",
    "    number_vowels = 0\n",
    "\n",
    "    for char in word:\n",
    "        if char in list_vowels:\n",
    "            number_vowels += 1\n",
    "    return number_vowels"
   ]
  },
  {
   "cell_type": "code",
   "execution_count": 17,
   "metadata": {},
   "outputs": [
    {
     "name": "stdout",
     "output_type": "stream",
     "text": [
      "The word 'HereWeGo!' has 4 number of vowels.\n"
     ]
    }
   ],
   "source": [
    "word=\"HereWeGo!\"\n",
    "\n",
    "result = count_vowels(word)\n",
    "\n",
    "print(f\"The word '{word}' has {result} number of vowels.\")"
   ]
  },
  {
   "cell_type": "markdown",
   "metadata": {},
   "source": [
    "**Question 2:**\n",
    "\n",
    "animals = ['tiger', 'elephant', 'monkey', 'zebra', 'panther']\n",
    "\n",
    "Iterate through the list of animals and print each one in all caps. "
   ]
  },
  {
   "cell_type": "code",
   "execution_count": 9,
   "metadata": {},
   "outputs": [
    {
     "name": "stdout",
     "output_type": "stream",
     "text": [
      "Iterate through the list of animals and print each one in all caps:\n",
      "TIGER\n",
      "ELEPHANT\n",
      "MONKEY\n",
      "ZEBRA\n",
      "PANTHER\n"
     ]
    }
   ],
   "source": [
    "# Question 2: iterate through the list of animals and print each one in all capital letters.\n",
    "# version 1: use numeric approach: index, range, len\n",
    "animals = ['tiger', 'elephant', 'monkey', 'zebra', 'panther']\n",
    "\n",
    "print(\"Iterate through the list of animals and print each one in all caps:\")\n",
    "for index in range(len(animals)):\n",
    "    print(animals[index].upper())"
   ]
  },
  {
   "cell_type": "code",
   "execution_count": 10,
   "metadata": {},
   "outputs": [
    {
     "name": "stdout",
     "output_type": "stream",
     "text": [
      "Iterate through the list of animals and print each one in all caps:\n",
      "TIGER\n",
      "ELEPHANT\n",
      "MONKEY\n",
      "ZEBRA\n",
      "PANTHER\n"
     ]
    }
   ],
   "source": [
    "# Question 2: iterate through the list of animals and print each one in all capital letters.\n",
    "# version 2: use for animal in animals:\n",
    "animals = ['tiger', 'elephant', 'monkey', 'zebra', 'panther']\n",
    "print(\"Iterate through the list of animals and print each one in all caps:\")\n",
    "for animal in animals:\n",
    "    print(animal.upper())"
   ]
  },
  {
   "cell_type": "markdown",
   "metadata": {},
   "source": [
    "**Question 3**\n",
    "\n",
    "Write a program that iterates from 1 to 20, printing each number and whether it is odd or even."
   ]
  },
  {
   "cell_type": "code",
   "execution_count": 13,
   "metadata": {},
   "outputs": [
    {
     "name": "stdout",
     "output_type": "stream",
     "text": [
      "Number 1 is an odd number.\n",
      "\n",
      "Number 2 is an even number.\n",
      "\n",
      "Number 3 is an odd number.\n",
      "\n",
      "Number 4 is an even number.\n",
      "\n",
      "Number 5 is an odd number.\n",
      "\n",
      "Number 6 is an even number.\n",
      "\n",
      "Number 7 is an odd number.\n",
      "\n",
      "Number 8 is an even number.\n",
      "\n",
      "Number 9 is an odd number.\n",
      "\n",
      "Number 10 is an even number.\n",
      "\n",
      "Number 11 is an odd number.\n",
      "\n",
      "Number 12 is an even number.\n",
      "\n",
      "Number 13 is an odd number.\n",
      "\n",
      "Number 14 is an even number.\n",
      "\n",
      "Number 15 is an odd number.\n",
      "\n",
      "Number 16 is an even number.\n",
      "\n",
      "Number 17 is an odd number.\n",
      "\n",
      "Number 18 is an even number.\n",
      "\n",
      "Number 19 is an odd number.\n",
      "\n",
      "Number 20 is an even number.\n",
      "\n"
     ]
    }
   ],
   "source": [
    "# Question 3: write a program that iterates from 1 to 20, printing each number and whether it is an odd number or an even number.\n",
    "# Answer to question 3\n",
    "for number in range(1,21):\n",
    "    # error checking\n",
    "    if number % 2 != 0 and number % 2 != 1:\n",
    "        print(\"f Number {number} is neither an even number nor an odd number.\\n\")\n",
    "\n",
    "    else:\n",
    "        if number % 2 == 0:\n",
    "            print(f\"Number {number} is an even number.\\n\")\n",
    "        else:\n",
    "            print(f\"Number {number} is an odd number.\\n\")"
   ]
  },
  {
   "cell_type": "markdown",
   "metadata": {},
   "source": [
    "**Question 4**\n",
    "\n",
    "Write a function sum_of_integers(a,b) that takes two integers as input from the user and returns their sum."
   ]
  },
  {
   "cell_type": "code",
   "execution_count": 9,
   "metadata": {},
   "outputs": [],
   "source": [
    "# Question 4: write a function sum_of_integers(a,b) that takes two integers as input from the user and returns their sum.\n",
    "# Answer to question 4\n",
    "def takes_user_input():\n",
    "    user_input_valid = False\n",
    "\n",
    "    while not user_input_valid: \n",
    "        try: \n",
    "            number_1 = int(input(\"What is the first integer? \"))  # Convert input to integer\n",
    "            number_2 = int(input(\"What is the second integer? \"))\n",
    "            print(f\"The two input numbers are: {number_1} and {number_2}\")\n",
    "            user_input_valid = True  # Exit the loop\n",
    "\n",
    "        except ValueError:      \n",
    "            print(\"Either the first number or the second number (or both) is(are) non-integer number(s). Please try again.\")\n",
    "\n",
    "        def sum_of_integers(number_1, number_2):\n",
    "            return number_1 + number_2\n",
    "\n",
    "    return sum_of_integers(number_1, number_2)"
   ]
  },
  {
   "cell_type": "code",
   "execution_count": 10,
   "metadata": {},
   "outputs": [
    {
     "name": "stdout",
     "output_type": "stream",
     "text": [
      "The two input numbers are: 22 and 33\n",
      "The sum of the two numbers is: 55\n"
     ]
    }
   ],
   "source": [
    "# Example usage\n",
    "result = takes_user_input()\n",
    "print(f\"The sum of the two numbers is: {result}\")"
   ]
  }
 ],
 "metadata": {
  "kernelspec": {
   "display_name": "base",
   "language": "python",
   "name": "python3"
  },
  "language_info": {
   "codemirror_mode": {
    "name": "ipython",
    "version": 3
   },
   "file_extension": ".py",
   "mimetype": "text/x-python",
   "name": "python",
   "nbconvert_exporter": "python",
   "pygments_lexer": "ipython3",
   "version": "3.11.5"
  }
 },
 "nbformat": 4,
 "nbformat_minor": 2
}
